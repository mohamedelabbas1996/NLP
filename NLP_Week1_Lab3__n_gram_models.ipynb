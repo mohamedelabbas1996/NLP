{
  "cells": [
    {
      "cell_type": "markdown",
      "metadata": {
        "id": "thobkiOZ76P9"
      },
      "source": [
        "\n",
        "<h1 style=\"font-family:verdana;font-size:300%;text-align:center;background-color:#f2f2f2;color:#0d0d0d\">AMMI NLP - Review sessions</h1>\n",
        "\n",
        "<h1 style=\"font-family:verdana;font-size:180%;text-align:Center;color:#993333\"> Lab 3: n-gram models </h1>"
      ]
    },
    {
      "cell_type": "markdown",
      "metadata": {
        "id": "isDHbRcz76QB"
      },
      "source": [
        "**Big thanks to Amr Khalifa who improved this lab and made it to a Jupyter Notebook!**"
      ]
    },
    {
      "cell_type": "code",
      "execution_count": 4,
      "metadata": {
        "id": "AO2Q6hrQ76QC"
      },
      "outputs": [],
      "source": [
        "import io, sys, math, re\n",
        "from collections import defaultdict\n",
        "import numpy as np"
      ]
    },
    {
      "cell_type": "code",
      "source": [
        "from google.colab import drive\n",
        "drive.mount(\"drive\")"
      ],
      "metadata": {
        "colab": {
          "base_uri": "https://localhost:8080/"
        },
        "id": "NywuM_YBXKOq",
        "outputId": "d6c6d604-73b2-4e13-ee66-6720329d4138"
      },
      "execution_count": 5,
      "outputs": [
        {
          "output_type": "stream",
          "name": "stdout",
          "text": [
            "Mounted at drive\n"
          ]
        }
      ]
    },
    {
      "cell_type": "code",
      "execution_count": 6,
      "metadata": {
        "id": "wG9pqSoV76QD"
      },
      "outputs": [],
      "source": [
        "# data_loader\n",
        "def load_data(filename):\n",
        "    '''\n",
        "    parameters:\n",
        "    filename (string): datafile\n",
        "    \n",
        "    Returns:\n",
        "    data (list of lists): each list is a sentence of the text \n",
        "    vocab (dictionary): {word: no of times it appears in the text}\n",
        "    '''\n",
        "    fin = io.open(filename, 'r', encoding='utf-8')\n",
        "    data = []\n",
        "    vocab = defaultdict(lambda:0)\n",
        "    for line in fin:\n",
        "        sentence = line.split()\n",
        "        data.append(sentence)\n",
        "        for word in sentence:\n",
        "            vocab[word] += 1\n",
        "    return data, vocab"
      ]
    },
    {
      "cell_type": "code",
      "execution_count": 7,
      "metadata": {
        "id": "amQ02wsD76QE",
        "colab": {
          "base_uri": "https://localhost:8080/"
        },
        "outputId": "fb7e6f00-fad7-4240-f6ec-4c247519389f"
      },
      "outputs": [
        {
          "output_type": "stream",
          "name": "stdout",
          "text": [
            "load training set..\n",
            "\n",
            "\n",
            "['<s>', 'my', 'fathers', \"don't\", 'speak', 'dutch.', '</s>']\n",
            "\n",
            "\n",
            "how : 107\n",
            "load validation set\n"
          ]
        }
      ],
      "source": [
        "\n",
        "print(\"load training set..\")\n",
        "print(\"\\n\")\n",
        "train_data, vocab = load_data(\"drive/MyDrive/nlp_week1_lab3_train1.txt\")\n",
        "print(train_data[0])\n",
        "print(\"\\n\")\n",
        "print(\"how :\",vocab['how'])\n",
        "print(\"load validation set\")\n",
        "valid_data, _ = load_data(\"drive/MyDrive/nlp_week1_lab3_valid1.txt\")\n"
      ]
    },
    {
      "cell_type": "code",
      "execution_count": 9,
      "metadata": {
        "id": "6kfh1SAS76QE"
      },
      "outputs": [],
      "source": [
        "def remove_rare_words(data, vocab, mincount = 1):\n",
        "    '''\n",
        "    Parameters:\n",
        "    data (list of lists): each list is a sentence of the text \n",
        "    vocab (dictionary): {word: no of times it appears in the text}\n",
        "    mincount(int): the minimum count \n",
        "    \n",
        "    Returns: \n",
        "    data_with_unk(list of lists): data after replacing rare words with <unk> token\n",
        "    '''\n",
        "    # replace words in data that are not in the vocab \n",
        "    # or have a count that is below mincount\n",
        "    data_with_unk = []\n",
        "\n",
        "    ## FILL CODE\n",
        "    for sentence in data:\n",
        "      s = []\n",
        "      for idx,word in enumerate(sentence):\n",
        "        if word not in vocab or vocab[word]< mincount:\n",
        "          s.append(\"<unk>\")\n",
        "        else:\n",
        "          s.append(word)\n",
        "      data_with_unk.append(s)      \n",
        "    \n",
        "    return data_with_unk"
      ]
    },
    {
      "cell_type": "code",
      "execution_count": 151,
      "metadata": {
        "id": "iEB_VcVj76QF",
        "colab": {
          "base_uri": "https://localhost:8080/"
        },
        "outputId": "48943fb9-d0d3-4593-887d-e1235fbc9768"
      },
      "outputs": [
        {
          "output_type": "stream",
          "name": "stdout",
          "text": [
            "remove rare words\n",
            "['<s>', 'my', '<unk>', \"don't\", 'speak', '<unk>', '</s>']\n"
          ]
        }
      ],
      "source": [
        "print(\"remove rare words\")\n",
        "\n",
        "train_data = remove_rare_words(train_data, vocab, mincount = 2)\n",
        "valid_data = remove_rare_words(valid_data, vocab, mincount = 1)\n",
        "#train_data\n",
        "print(train_data[0])\n",
        "\n"
      ]
    },
    {
      "cell_type": "code",
      "execution_count": 152,
      "metadata": {
        "id": "pNXHA3zS76QF"
      },
      "outputs": [],
      "source": [
        "def build_ngram(data, n):\n",
        "    '''\n",
        "    Parameters:\n",
        "    data (list of lists): each list is a sentence of the text \n",
        "    n (int): size of the n-gram\n",
        "    \n",
        "    Returns:\n",
        "    prob (dictionary of dictionary)\n",
        "    {\n",
        "        context: {word:probability of this word given context}\n",
        "    }\n",
        "    '''\n",
        "    total_number_words = 0\n",
        "    counts = defaultdict(lambda: defaultdict(lambda: 0.0))\n",
        "    def _build_ngram(data,n):\n",
        "      counts = defaultdict(lambda: defaultdict(lambda: 0.0))\n",
        "      for sentence in data:\n",
        "          sentence = tuple(sentence)\n",
        "          ## FILL CODE\n",
        "          # dict can be indexed by tuples\n",
        "          # store in the same dict all the ngrams\n",
        "          # by using the context as a key and the word as a value\n",
        "          for i in range(0,len(sentence)-(n)):\n",
        "            ngram = sentence[i:i+(n-1)]\n",
        "            word = sentence[i+n] if n >1 else sentence[i]\n",
        "            counts[ngram][word]+=1\n",
        "\n",
        "      prob = defaultdict(lambda: defaultdict(lambda: 0.0))\n",
        "      # Build the probabilities from the counts\n",
        "      # Be careful with how you normalize!\n",
        "\n",
        "      for context in counts.keys():\n",
        "      ## FILL CODE\n",
        "      # p(w | context) = count(context, w)/ count(context)\n",
        "        count_context = sum([counts[context][w] for w in counts[context].keys()])\n",
        "        for word in counts[context]:\n",
        "          prob[context][word] = counts[context][word]/count_context  \n",
        "      return prob\n",
        "\n",
        "    prob = defaultdict(lambda: defaultdict(lambda: 0.0))\n",
        "    for i in range(1,n+1):\n",
        "      prob = {**prob, **_build_ngram(data,i)}\n",
        "\n",
        "\n",
        "    \n",
        "    return prob"
      ]
    },
    {
      "cell_type": "code",
      "execution_count": 273,
      "metadata": {
        "id": "WMxK-Qki76QG",
        "colab": {
          "base_uri": "https://localhost:8080/"
        },
        "outputId": "ff2e4013-8738-469b-9313-3c875d73b925"
      },
      "outputs": [
        {
          "output_type": "stream",
          "name": "stdout",
          "text": [
            "build ngram model with n =  10\n"
          ]
        }
      ],
      "source": [
        "# RUN TO BUILD NGRAM MODEL\n",
        "\n",
        "n = 10\n",
        "print(\"build ngram model with n = \", n)\n",
        "model = build_ngram(train_data, n)\n"
      ]
    },
    {
      "cell_type": "markdown",
      "metadata": {
        "id": "KbCzRXJk76QG"
      },
      "source": [
        "Here, implement a recursive function over shorter and shorter context to compute a \"stupid backoff model\". An interpolation model can also be implemented this way."
      ]
    },
    {
      "cell_type": "code",
      "execution_count": 309,
      "metadata": {
        "id": "AbOs6Duc76QG"
      },
      "outputs": [],
      "source": [
        "def get_prob(model, context, w):\n",
        "    '''\n",
        "    Parameters: \n",
        "    model (dictionary of dictionary)\n",
        "    {\n",
        "        context: {word:probability of this word given context}\n",
        "    } \n",
        "    context (list of strings): a sentence\n",
        "    w(string): the word we need to find it's probability given the context\n",
        "    \n",
        "    Retunrs:\n",
        "    prob(float): probability of this word given the context \n",
        "    '''\n",
        "\n",
        "    # code a recursive function over \n",
        "    # smaller and smaller context\n",
        "    # to compute the backoff model\n",
        "    \n",
        "    ## FILL CODE\n",
        "    \n",
        "    if len(context)==0 and model[context][w] ==0:\n",
        "      return model[()][\"<unk>\"]\n",
        "    if context in model and model[context][w] > 0 :\n",
        "\n",
        "      return model[context][w]\n",
        "    \n",
        "    #new_model = build_ngram(data,len(context) -1)\n",
        "\n",
        "    return 0.4 *get_prob(model,context[1:],w) \n",
        "\n",
        "   \n"
      ]
    },
    {
      "cell_type": "code",
      "execution_count": 310,
      "metadata": {
        "id": "z5waVP3C76QH"
      },
      "outputs": [],
      "source": [
        "def perplexity(model, data, n):\n",
        "    '''\n",
        "    Parameters: \n",
        "    model (dictionary of dictionary)\n",
        "    {\n",
        "        context: {word:probability of this word given context}\n",
        "    } \n",
        "    data (list of lists): each list is a sentence of the text\n",
        "    n(int): size of the n-gram\n",
        "    \n",
        "    Retunrs:\n",
        "    perp(float): the perplexity of the model \n",
        "    '''\n",
        "    ## FILL CODE\n",
        "    overall_perplexity = 0\n",
        "    for sentence in data:\n",
        "      sentence_perplexity = 1\n",
        "      T = len(sentence)\n",
        "      for i in range(len(sentence)-n):\n",
        "        context = tuple(sentence)[i:i+n-1]\n",
        "        w= sentence[i+n]\n",
        "        prob = get_prob(model,context,w)\n",
        "        sentence_perplexity *= prob**(-1/T)\n",
        "        overall_perplexity+= sentence_perplexity\n",
        "\n",
        "\n",
        "      \n",
        "\n",
        "    return overall_perplexity/len(data)"
      ]
    },
    {
      "cell_type": "code",
      "execution_count": 311,
      "metadata": {
        "id": "AYBc5Aam76QH",
        "colab": {
          "base_uri": "https://localhost:8080/"
        },
        "outputId": "ee54fd0a-fe39-4e25-b479-a2d62274a623"
      },
      "outputs": [
        {
          "output_type": "stream",
          "name": "stdout",
          "text": [
            "The perplexity is 2046.4855604190755\n"
          ]
        }
      ],
      "source": [
        "# COMPUTE PERPLEXITY ON VALIDATION SET\n",
        "\n",
        "print(\"The perplexity is\", perplexity(model, valid_data, n=n))"
      ]
    },
    {
      "cell_type": "code",
      "execution_count": 312,
      "metadata": {
        "id": "idrxoRlc76QH"
      },
      "outputs": [],
      "source": [
        "def get_proba_distrib(model, context):\n",
        "    ## need to get the the words after the context and their probability of appearance\n",
        "    ## after this context \n",
        "    '''\n",
        "    Parameters: \n",
        "    model (dictionary of dictionary)\n",
        "    {\n",
        "        context: {word:probability of this word given context}\n",
        "    }\n",
        "    context (list of strings): the sentence we need to find the words after it and \n",
        "    thier probabilites\n",
        "    \n",
        "    Retunrs:\n",
        "    words_and_probs(dic): {word: probability of word given context}\n",
        "    \n",
        "    '''\n",
        "    # code a recursive function over context\n",
        "    # to find the longest available ngram\n",
        "    \n",
        "    ## FILL CODE\n",
        "    \n",
        "    for i in (range(len(context))):\n",
        "      #print (context[i:])\n",
        "      if context[i:] in model:\n",
        "        return model[context[i:]]\n",
        "    return model[()]    \n",
        "    "
      ]
    },
    {
      "cell_type": "code",
      "execution_count": 325,
      "metadata": {
        "id": "i_eGYoZB76QI"
      },
      "outputs": [],
      "source": [
        "def generate(model):\n",
        "    '''\n",
        "    Parameters: \n",
        "    model (dictionary of dictionary)\n",
        "    {\n",
        "        context: {word:probability of this word given context}\n",
        "    }\n",
        "    \n",
        "    Retunrs:\n",
        "    sentence (list of strings): a sentence sampled according to the language model. \n",
        "    \n",
        "\n",
        "    '''\n",
        "    # generate a sentence. A sentence starts with a <s> and ends with a </s>\n",
        "    # Possiblly a use function is:\n",
        "    # np.random.choice(x, 1, p = y)\n",
        "\n",
        "    # where x is a list of things to sample from\n",
        "    # and y is a list of probability (of the same length as x)\n",
        "    sentence = [\"<s>\"]\n",
        "    n =10\n",
        "    #print (model[(\"<s>\")])\n",
        "    #print (len(model[tuple(sentence)].values()))\n",
        "    while sentence[-1] != \"</s>\" and len(sentence)<10:\n",
        "        ## FILL CODE\n",
        "        #print (tuple(sentence)[-1:])\n",
        "        context= tuple(sentence)[-(n-1):]\n",
        "        #print(context)\n",
        "        dist = get_proba_distrib(model,context)\n",
        "        probs = list(dist.values())\n",
        "        words = list(dist.keys())\n",
        "        #print (words)\n",
        "        #print ()\n",
        "        word = np.random.choice(words,1,p= probs)[0]\n",
        "        if word !=\"<unk>\":\n",
        "          sentence.append(word)\n",
        "        #print (sentence)\n",
        "        \n",
        "    return sentence"
      ]
    },
    {
      "cell_type": "code",
      "execution_count": 314,
      "metadata": {
        "id": "mWqzUXjw76QI",
        "colab": {
          "base_uri": "https://localhost:8080/"
        },
        "outputId": "ef1984bc-acf7-4f85-9c40-1e0d9c214839"
      },
      "outputs": [
        {
          "output_type": "stream",
          "name": "stdout",
          "text": [
            "Generated sentence:  ['<s>', 'and', 'brought', 'into', 'police', 'the', '</s>']\n"
          ]
        }
      ],
      "source": [
        "# GENERATE A SENTENCE FROM THE MODEL\n",
        "\n",
        "print(\"Generated sentence: \",generate(model))"
      ]
    },
    {
      "cell_type": "markdown",
      "metadata": {
        "id": "XCs2pG6P76QJ"
      },
      "source": [
        "Once you are done implementing the model, evaluation and generation code, you can try changing the value of `n`, and play with a larger training set (`train2.txt` and `valid2.txt`). You can also try to implement an interpolation model."
      ]
    },
    {
      "cell_type": "code",
      "execution_count": 285,
      "metadata": {
        "id": "INh4pNmm76QJ",
        "colab": {
          "base_uri": "https://localhost:8080/"
        },
        "outputId": "19fe5739-20dc-4285-a227-76f8212020b5"
      },
      "outputs": [
        {
          "output_type": "stream",
          "name": "stdout",
          "text": [
            "load training set 2..\n",
            "\n",
            "\n",
            "['<s>', 'i', 'liked', 'your', 'idea', 'and', 'adopted', 'it', '.', '</s>']\n",
            "\n",
            "\n",
            "how : 3195\n",
            "load validation set 2\n"
          ]
        }
      ],
      "source": [
        "\n",
        "print(\"load training set 2..\")\n",
        "print(\"\\n\")\n",
        "train_data2, vocab = load_data(\"drive/MyDrive/nlp_week1_lab3_train2.txt\")\n",
        "print(train_data2[0])\n",
        "print(\"\\n\")\n",
        "print(\"how :\",vocab['how'])\n",
        "print(\"load validation set 2\")\n",
        "valid_data2, _ = load_data(\"drive/MyDrive/nlp_week1_lab3_valid2.txt\")\n"
      ]
    },
    {
      "cell_type": "code",
      "source": [
        "n = 3"
      ],
      "metadata": {
        "id": "xyEO8rKZB6SR"
      },
      "execution_count": 315,
      "outputs": []
    },
    {
      "cell_type": "code",
      "source": [
        "model = build_ngram(train_data2, n)"
      ],
      "metadata": {
        "id": "tq71nPJjBZRR"
      },
      "execution_count": 317,
      "outputs": []
    },
    {
      "cell_type": "code",
      "source": [
        "perplexity(model,valid_data2, n)"
      ],
      "metadata": {
        "colab": {
          "base_uri": "https://localhost:8080/"
        },
        "id": "nHcKA9nxBpXk",
        "outputId": "ebd44ab9-f17a-406e-affb-0db0df5766d7"
      },
      "execution_count": 318,
      "outputs": [
        {
          "output_type": "execute_result",
          "data": {
            "text/plain": [
              "203.12509359556086"
            ]
          },
          "metadata": {},
          "execution_count": 318
        }
      ]
    },
    {
      "cell_type": "code",
      "source": [
        "generate(model)"
      ],
      "metadata": {
        "colab": {
          "base_uri": "https://localhost:8080/"
        },
        "id": "g7vh3LzcBvHj",
        "outputId": "6be8fd9f-711e-484b-b7ec-af11e6bb5769"
      },
      "execution_count": 331,
      "outputs": [
        {
          "output_type": "execute_result",
          "data": {
            "text/plain": [
              "['<s>', 'is', 'a', 'yen', 'over', 'matter', 'much', '</s>']"
            ]
          },
          "metadata": {},
          "execution_count": 331
        }
      ]
    },
    {
      "cell_type": "code",
      "source": [
        ""
      ],
      "metadata": {
        "id": "4f-xb6wBB3tn"
      },
      "execution_count": null,
      "outputs": []
    }
  ],
  "metadata": {
    "kernelspec": {
      "display_name": "Python 3",
      "language": "python",
      "name": "python3"
    },
    "language_info": {
      "codemirror_mode": {
        "name": "ipython",
        "version": 3
      },
      "file_extension": ".py",
      "mimetype": "text/x-python",
      "name": "python",
      "nbconvert_exporter": "python",
      "pygments_lexer": "ipython3",
      "version": "3.6.2+"
    },
    "colab": {
      "name": "NLP_Week1_Lab3_ n_gram_models.ipynb",
      "provenance": [],
      "collapsed_sections": []
    }
  },
  "nbformat": 4,
  "nbformat_minor": 0
}