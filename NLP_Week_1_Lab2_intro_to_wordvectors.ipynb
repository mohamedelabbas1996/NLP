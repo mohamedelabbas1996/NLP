{
  "cells": [
    {
      "cell_type": "markdown",
      "metadata": {
        "id": "0Rgs1M4rqlrD"
      },
      "source": [
        "\n",
        "<h1 style=\"font-family:verdana;font-size:300%;text-align:center;background-color:#f2f2f2;color:#0d0d0d\">AMMI NLP - Review sessions</h1>\n",
        "\n",
        "<h1 style=\"font-family:verdana;font-size:180%;text-align:Center;color:#993333\"> Lab 2: Introduction to wordvectors </h1>"
      ]
    },
    {
      "cell_type": "markdown",
      "metadata": {
        "id": "KKBOFdoLqlrF"
      },
      "source": [
        "**Big thanks to Amr Khalifa who improved this lab and made it to a Jupyter Notebook!**"
      ]
    },
    {
      "cell_type": "code",
      "execution_count": 1,
      "metadata": {
        "id": "YOGqnZgdqlrG"
      },
      "outputs": [],
      "source": [
        "import io, sys\n",
        "import numpy as np"
      ]
    },
    {
      "cell_type": "code",
      "source": [
        "from google.colab import drive\n",
        "drive.mount(\"drive\")"
      ],
      "metadata": {
        "colab": {
          "base_uri": "https://localhost:8080/"
        },
        "id": "iCayPFWFvP0j",
        "outputId": "fcc8be92-a1b9-4688-85fc-fc69eb3da166"
      },
      "execution_count": 8,
      "outputs": [
        {
          "output_type": "stream",
          "name": "stdout",
          "text": [
            "Mounted at drive\n"
          ]
        }
      ]
    },
    {
      "cell_type": "code",
      "source": [
        "ls drive"
      ],
      "metadata": {
        "colab": {
          "base_uri": "https://localhost:8080/"
        },
        "id": "f8yRjEnivznF",
        "outputId": "6aae2935-92ea-4457-a4d7-1cbcc7c62dba"
      },
      "execution_count": 11,
      "outputs": [
        {
          "output_type": "stream",
          "name": "stdout",
          "text": [
            "\u001b[0m\u001b[01;34mMyDrive\u001b[0m/  \u001b[01;34mShareddrives\u001b[0m/\n"
          ]
        }
      ]
    },
    {
      "cell_type": "code",
      "execution_count": 2,
      "metadata": {
        "id": "KYNmfcLwqlrG"
      },
      "outputs": [],
      "source": [
        "\n",
        "def load_vectors(filename):\n",
        "    fin = io.open(filename, 'r', encoding='utf-8', newline='\\n')\n",
        "    n, d = map(int, fin.readline().split())\n",
        "    data = {}\n",
        "    for line in fin:\n",
        "        tokens = line.rstrip().split(' ')\n",
        "        data[tokens[0]] = np.asarray([float(x) for x in tokens[1:]])\n",
        "    return data"
      ]
    },
    {
      "cell_type": "code",
      "execution_count": 13,
      "metadata": {
        "id": "BwcnbIq-qlrH",
        "colab": {
          "base_uri": "https://localhost:8080/"
        },
        "outputId": "ee85473f-27d7-499c-9117-949c02bbdf3b"
      },
      "outputs": [
        {
          "output_type": "stream",
          "name": "stdout",
          "text": [
            "\n",
            " ** Word vectors ** \n",
            "\n",
            "<class 'numpy.ndarray'> 300\n"
          ]
        }
      ],
      "source": [
        "# Loading word vectors\n",
        "\n",
        "print('')\n",
        "print(' ** Word vectors ** ')\n",
        "print('')\n",
        "\n",
        "'''\n",
        "word_vectors is a dictionary that maps words to their numerical word vector\n",
        "[word (string)] = [np-array] \n",
        "'''\n",
        "word_vectors = load_vectors('drive/MyDrive/wiki.en.vec')\n",
        "\n",
        "tree_vector = word_vectors['tree']\n",
        "print(type(tree_vector), len(tree_vector))"
      ]
    },
    {
      "cell_type": "code",
      "execution_count": 16,
      "metadata": {
        "id": "efLgsKdFqlrH"
      },
      "outputs": [],
      "source": [
        "## This function computes the cosine similarity between vectors u and v\n",
        "\n",
        "def cosine(u, v):\n",
        "    '''\n",
        "    Parameters:\n",
        "    u : 1-D numpy array\n",
        "    v : 1-D numpy array \n",
        "    \n",
        "    Returns:\n",
        "    cos (float) : value of the cosine similairy between vectors u, v \n",
        "    '''\n",
        "\n",
        "    ## FILL CODE\n",
        "    cos =u.T@v/ (np.linalg.norm(u) * np.linalg.norm(v))\n",
        "    \n",
        "    return cos \n"
      ]
    },
    {
      "cell_type": "code",
      "execution_count": 22,
      "metadata": {
        "id": "11Od4NFeqlrH",
        "colab": {
          "base_uri": "https://localhost:8080/"
        },
        "outputId": "6dc2705e-c895-4231-c5d7-f7ae21999160"
      },
      "outputs": [
        {
          "output_type": "stream",
          "name": "stdout",
          "text": [
            "test similarity 1.0\n",
            "similarity(apple, apples) = 0.637\n",
            "similarity(apple, banana) = 0.431\n",
            "similarity(apple, tiger) = 0.212\n"
          ]
        }
      ],
      "source": [
        "# compute similarity between words\n",
        "print (f\"test similarity {cosine(np.array([1,0,0]),np.array([1,0,0]))}\", )\n",
        "print('similarity(apple, apples) = %.3f' %\n",
        "      cosine(word_vectors['apple'], word_vectors['apples']))\n",
        "print('similarity(apple, banana) = %.3f' %\n",
        "      cosine(word_vectors['apple'], word_vectors['banana']))\n",
        "print('similarity(apple, tiger) = %.3f' %\n",
        "      cosine(word_vectors['apple'], word_vectors['tiger']))"
      ]
    },
    {
      "cell_type": "code",
      "execution_count": 26,
      "metadata": {
        "id": "EZ4cNIfrqlrI"
      },
      "outputs": [],
      "source": [
        "## Functions for nearest neighbor\n",
        "## This function returns the word corresponding to \n",
        "## nearest neighbor vector of x\n",
        "## The list exclude_words can be used to exclude some\n",
        "## words from the nearest neighbors search\n",
        "\n",
        "def nearest_neighbor(x, word_vectors, exclude_words=[]):\n",
        "    '''\n",
        "    Parameters:\n",
        "    x (string): word to find its nearest neighbour \n",
        "    word_vectors (Python dict): {word (string): np-array of word vector}\n",
        "    exclude_words (list of strings): words to be excluded from the search\n",
        "    \n",
        "    Returns:\n",
        "    best_word (string) : the word whose word vector is the nearest neighbour \n",
        "    to the word vector of x\n",
        "    '''\n",
        "    best_score = -1.0\n",
        "    best_word = None\n",
        "\n",
        "    \n",
        "    ## FILL CODE\n",
        "    exclude_words = set(exclude_words)\n",
        "    for word, vector in word_vectors.items():\n",
        "      similarity = cosine (vector, x)\n",
        "      if  similarity> best_score and word not in exclude_words:\n",
        "        best_score = similarity\n",
        "        best_word = word \n",
        "\n",
        "    return best_word"
      ]
    },
    {
      "cell_type": "code",
      "execution_count": 27,
      "metadata": {
        "id": "M2J-6s61qlrI",
        "colab": {
          "base_uri": "https://localhost:8080/"
        },
        "outputId": "9178935c-ab89-4fcd-c1c8-88964156f3c7"
      },
      "outputs": [
        {
          "output_type": "stream",
          "name": "stdout",
          "text": [
            "\n",
            "The nearest neighbor of cat is: dog\n"
          ]
        }
      ],
      "source": [
        "print('')\n",
        "print('The nearest neighbor of cat is: ' +\n",
        "      nearest_neighbor(word_vectors['cat'], word_vectors, exclude_words = ['cat', 'cats']))"
      ]
    },
    {
      "cell_type": "markdown",
      "metadata": {
        "id": "yvfo4Gl_qlrI"
      },
      "source": [
        "#### Hint (using python priorty queues with the heapq datastructure): \n",
        "if you don't want to store all the words and scores you can use the priortiy queue and only store the best K element so far. "
      ]
    },
    {
      "cell_type": "code",
      "execution_count": 70,
      "metadata": {
        "id": "AFCxLz5AqlrI"
      },
      "outputs": [],
      "source": [
        "\n",
        "## This function return the words corresponding to the\n",
        "## K nearest neighbors of vector x.\n",
        "## You can use the functions heappush and heappop.\n",
        "import heapq\n",
        "def knn(x, vectors, k):\n",
        "    '''\n",
        "    Parameters:\n",
        "    x (string): word to find its nearest neighbour \n",
        "    word_vectors (Python dict): {word (string): np-array of word vector}\n",
        "    k (int): number of nearest neighbours to be found\n",
        "    \n",
        "    Returns: \n",
        "    k_nearest_neighbors (list of tuples): [(score, word), (score, word), ....]\n",
        "    '''\n",
        "\n",
        "    k_nearest_neighbors = None\n",
        "    ## FILL CODE\n",
        "    #vectors =[ cosine (x, i ) for i in vectors.values()]\n",
        "    heap = []\n",
        "    \n",
        "    for w,v in vectors.items():\n",
        "      if cosine(v,x) != 1:\n",
        "        heapq.heappush(heap, (-1*cosine(x,v), w)) \n",
        "\n",
        "    k_nearest_neighbors = [heapq.heappop(heap)  for i in range(k)]  \n",
        "    k_nearest_neighbors = [ (-1*i[0],i[1]) for i in k_nearest_neighbors]\n",
        "        \n",
        "    return k_nearest_neighbors"
      ]
    },
    {
      "cell_type": "code",
      "execution_count": 71,
      "metadata": {
        "id": "1CvGccZEqlrJ",
        "colab": {
          "base_uri": "https://localhost:8080/"
        },
        "outputId": "c63c9151-7cab-41fe-9aeb-7bd8e0dbf513"
      },
      "outputs": [
        {
          "output_type": "stream",
          "name": "stdout",
          "text": [
            "\n",
            "cat\n",
            "--------------\n",
            "cats\t0.732\n",
            "dog\t0.638\n",
            "pet\t0.573\n",
            "rabbit\t0.549\n",
            "dogs\t0.538\n"
          ]
        }
      ],
      "source": [
        "knn_cat = knn(word_vectors['cat'], word_vectors, 5)\n",
        "print('')\n",
        "print('cat')\n",
        "print('--------------')\n",
        "for score, word in knn(word_vectors['cat'], word_vectors, 5):\n",
        "    print (word + '\\t%.3f' % score)\n"
      ]
    },
    {
      "cell_type": "markdown",
      "metadata": {
        "id": "e9Z6u7BjqlrJ"
      },
      "source": [
        "#### Hint: \n",
        "To find the analogies, we find the nearest neighbour associated with the wordvector d\n",
        "$$ d = \\frac{c}{\\Vert {c} \\Vert} + \\frac{b}{\\Vert {b} \\Vert} - \\frac{a}{\\Vert {a} \\Vert}$$\n"
      ]
    },
    {
      "cell_type": "code",
      "execution_count": 76,
      "metadata": {
        "id": "vd1Odd9cqlrJ"
      },
      "outputs": [],
      "source": [
        "## This function return the words d, such that a:b and c:d\n",
        "## verifies the same relation\n",
        "\n",
        "def analogy(a, b, c, word_vectors):\n",
        "    '''\n",
        "    Parameters:\n",
        "    a (string): word a\n",
        "    b (string): word b\n",
        "    c (string): word c\n",
        "    word_vectors (Python dict): {word (string): np-array of word vector}\n",
        "    \n",
        "    Returnrs: \n",
        "    the word d (string) associated with c such that c:d is similar to a:b \n",
        "    \n",
        "    '''\n",
        "    \n",
        "    ## FILL CODE\n",
        "    a,b,c = [word_vectors[i] for i in [a,b,c]]\n",
        "    d_vector = c/np.linalg.norm(c) + b/np.linalg.norm(b) - a/np.linalg.norm(a)\n",
        "    d  = nearest_neighbor(d_vector,word_vectors )\n",
        "    return d"
      ]
    },
    {
      "cell_type": "code",
      "execution_count": 77,
      "metadata": {
        "id": "3kx561vWqlrJ",
        "colab": {
          "base_uri": "https://localhost:8080/"
        },
        "outputId": "62b1e8f8-dfa0-46d0-85df-053cd6f02bfb"
      },
      "outputs": [
        {
          "output_type": "stream",
          "name": "stdout",
          "text": [
            "\n",
            "france - paris + rome = italy\n"
          ]
        }
      ],
      "source": [
        "# Word analogies\n",
        "\n",
        "print('')\n",
        "print('france - paris + rome = ' + analogy('paris', 'france', 'rome', word_vectors))"
      ]
    },
    {
      "cell_type": "markdown",
      "metadata": {
        "id": "nWgBv-DYqlrJ"
      },
      "source": [
        "## A word about biases in word vectors"
      ]
    },
    {
      "cell_type": "code",
      "execution_count": 79,
      "metadata": {
        "id": "rIJWZIKPqlrJ",
        "colab": {
          "base_uri": "https://localhost:8080/"
        },
        "outputId": "fb072fad-5efe-4a27-fc03-c08bf4ece010"
      },
      "outputs": [
        {
          "output_type": "stream",
          "name": "stdout",
          "text": [
            "\n",
            "similarity(genius, man) = 0.445\n",
            "similarity(genius, woman) = 0.325\n"
          ]
        }
      ],
      "source": [
        "## A word about biases in word vectors:\n",
        "\n",
        "print('')\n",
        "print('similarity(genius, man) = %.3f' %\n",
        "      cosine(word_vectors['man'], word_vectors['genius']))\n",
        "print('similarity(genius, woman) = %.3f' %\n",
        "      cosine(word_vectors['woman'], word_vectors['genius']))"
      ]
    },
    {
      "cell_type": "code",
      "execution_count": 85,
      "metadata": {
        "id": "D08bHSR-qlrK"
      },
      "outputs": [],
      "source": [
        "## Compute the association strength between:\n",
        "##   - a word w\n",
        "##   - two sets of attributes A and B\n",
        "\n",
        "def association_strength(w, A, B, vectors):\n",
        "    '''\n",
        "    Parameters:\n",
        "    w (string): word w\n",
        "    A (list of strings): The words belonging to set A\n",
        "    B (list of strings): The words belonging to set B\n",
        "    vectors (Python dict): {word (string): np-array of word vector}\n",
        "    \n",
        "    Returnrs: \n",
        "    strength (float): the value of the association strength \n",
        "    '''\n",
        "    \n",
        "    strength = 0.0\n",
        "    part_a = 0.0 \n",
        "    part_b = 0.0 \n",
        "    \n",
        "    ## FILL CODE\n",
        "    part_a = np.mean([cosine(vectors[w], vectors[i]) for i in A])\n",
        "    part_b = np.mean([cosine(vectors[w], vectors[i]) for i in B])\n",
        "    \n",
        "    strength = part_a - part_b\n",
        "\n",
        "    return strength"
      ]
    },
    {
      "cell_type": "code",
      "execution_count": 89,
      "metadata": {
        "id": "pQ4wfIj_qlrK"
      },
      "outputs": [],
      "source": [
        "## Perform the word embedding association test between:\n",
        "##   - two sets of words X and Y\n",
        "##   - two sets of attributes A and B\n",
        "\n",
        "def weat(X, Y, A, B, vectors):\n",
        "    '''\n",
        "    Parameters:\n",
        "    X (list of strings): The words belonging to set X\n",
        "    Y (list of strings): The words belonging to set Y\n",
        "    A (list of strings): The words belonging to set A\n",
        "    B (list of strings): The words belonging to set B\n",
        "    vectors (Python dict): {word (string): np-array of word vector}\n",
        "    \n",
        "    Returns: \n",
        "    score (float): the value of the group association strength  \n",
        "    '''\n",
        "    \n",
        "    score = 0.0\n",
        "    \n",
        "    ## FILL CODE\n",
        "    score = sum([association_strength(x, A, B, vectors) for x in X]) - sum([association_strength(y, A, B, vectors) for y in Y])\n",
        "    return score"
      ]
    },
    {
      "cell_type": "code",
      "execution_count": 90,
      "metadata": {
        "id": "STop3AZqqlrK",
        "colab": {
          "base_uri": "https://localhost:8080/"
        },
        "outputId": "5d20406b-ef6c-46f6-dcb7-88c85e75105b"
      },
      "outputs": [
        {
          "output_type": "stream",
          "name": "stdout",
          "text": [
            "\n",
            "Word embedding association test: 0.847\n"
          ]
        }
      ],
      "source": [
        "## Replicate one of the experiments from:\n",
        "##\n",
        "## Semantics derived automatically from language corpora contain human-like biases\n",
        "## Caliskan, Bryson, Narayanan (2017)\n",
        "\n",
        "career = ['executive', 'management', 'professional', 'corporation', \n",
        "          'salary', 'office', 'business', 'career']\n",
        "family = ['home', 'parents', 'children', 'family',\n",
        "          'cousins', 'marriage', 'wedding', 'relatives']\n",
        "male = ['john', 'paul', 'mike', 'kevin', 'steve', 'greg', 'jeff', 'bill']\n",
        "female = ['amy', 'joan', 'lisa', 'sarah', 'diana', 'kate', 'ann', 'donna']\n",
        "\n",
        "print('')\n",
        "print('Word embedding association test: %.3f' %\n",
        "      weat(career, family, male, female, word_vectors))"
      ]
    },
    {
      "cell_type": "markdown",
      "metadata": {
        "id": "g_3eQrt9qlrK"
      },
      "source": [
        "## Word translation using word vectors\n",
        "\n",
        "In the following, we will use word vectors in English and French to translate words from English to French. The idea is to learn a linear function that maps English word vectors to their correponding French word vectors. To learn this linear mapping, we will use a small bilingual lexicon, that contains pairs of words in English and French that are translations of each other.\n",
        "\n",
        "The following function will load the small English-French bilingual lexicon:"
      ]
    },
    {
      "cell_type": "code",
      "execution_count": 81,
      "metadata": {
        "id": "M-FaKBoNqlrL"
      },
      "outputs": [],
      "source": [
        "def load_lexicon(filename):\n",
        "    '''\n",
        "    Parameters:\n",
        "    filename(string): the path of the lexicon\n",
        "    \n",
        "    Returns:\n",
        "    data(list of pairs of string): the bilingual lexicon\n",
        "    '''\n",
        "    fin = io.open(filename, 'r', encoding='utf-8', newline='\\n')\n",
        "    data = []\n",
        "    for line in fin:\n",
        "        a, b = line.rstrip().split(' ')\n",
        "        data.append((a, b))\n",
        "    return data"
      ]
    },
    {
      "cell_type": "code",
      "execution_count": 82,
      "metadata": {
        "id": "Pp6K3PzJqlrL",
        "colab": {
          "base_uri": "https://localhost:8080/"
        },
        "outputId": "3e27c09b-b20b-4142-df37-a00faf7374cc"
      },
      "outputs": [
        {
          "output_type": "stream",
          "name": "stdout",
          "text": [
            "[('the', 'le'), ('the', 'les'), ('the', 'la'), ('and', 'et'), ('was', 'fut')]\n"
          ]
        }
      ],
      "source": [
        "word_vectors_en = load_vectors('drive/MyDrive/wiki.en.vec')\n",
        "word_vectors_fr = load_vectors('drive/MyDrive/wiki.fr.vec')\n",
        "lexicon = load_lexicon(\"drive/MyDrive/lexicon-en-fr.txt\")\n",
        "print(lexicon[:5])"
      ]
    },
    {
      "cell_type": "code",
      "execution_count": 83,
      "metadata": {
        "id": "p-yBNzQ8qlrL"
      },
      "outputs": [],
      "source": [
        "# We split the lexicon into a train and validation set\n",
        "train = lexicon[:5000]\n",
        "valid = lexicon[5000:5100]"
      ]
    },
    {
      "cell_type": "markdown",
      "metadata": {
        "id": "U7b1FDLHqlrL"
      },
      "source": [
        "The following function will learn the mapping from English to French. The idea is to build two matrices $X_{\\text{en}}$ and $X_{\\text{fr}}$, and to find a mapping $M$ that minimizes $||X_{\\text{en}} W - X_{\\text{fr}} ||_2$. In numpy, this mapping can be obtained by using the `numpy.linalg.lstsq` function."
      ]
    },
    {
      "cell_type": "code",
      "execution_count": 91,
      "metadata": {
        "id": "yU_BX6UvqlrL"
      },
      "outputs": [],
      "source": [
        "def align(word_vectors_en, word_vectors_fr, lexicon):\n",
        "    '''\n",
        "    Parameters:\n",
        "    word_vectors_en(dict: string -> np.array): English word vectors\n",
        "    word_vectors_en(dict: string -> np.array): French word vectors\n",
        "    lexicon(list of pairs of string): bilingual training lexicon\n",
        "    \n",
        "    Returns\n",
        "    mapping(np.array): the mapping from English to French vectors\n",
        "    '''\n",
        "    x_en, x_fr = [], []\n",
        "    \n",
        "    ## FILL CODE\n",
        "    for en,fr in lexicon:\n",
        "      x_en.append(word_vectors_en[en])\n",
        "      x_fr.append(word_vectors_fr[fr])\n",
        "\n",
        "    mapping = np.linalg.lstsq(np.array(x_fr), np.array(x_en))\n",
        "\n",
        "    \n",
        "    return mapping"
      ]
    },
    {
      "cell_type": "code",
      "execution_count": 94,
      "metadata": {
        "id": "CbEe1oX1qlrL",
        "colab": {
          "base_uri": "https://localhost:8080/"
        },
        "outputId": "4c419dec-e993-40f8-e196-2c9cc57da73f"
      },
      "outputs": [
        {
          "output_type": "stream",
          "name": "stderr",
          "text": [
            "/usr/local/lib/python3.7/dist-packages/ipykernel_launcher.py:18: FutureWarning: `rcond` parameter will change to the default of machine precision times ``max(M, N)`` where M and N are the input matrix dimensions.\n",
            "To use the future default and silence this warning we advise to pass `rcond=None`, to keep using the old, explicitly pass `rcond=-1`.\n"
          ]
        },
        {
          "output_type": "execute_result",
          "data": {
            "text/plain": [
              "(array([[-0.06183285, -0.01071552,  0.00175985, ..., -0.01107046,\n",
              "          0.01629405, -0.01644996],\n",
              "        [-0.01655313, -0.02930488,  0.09810107, ..., -0.01744702,\n",
              "         -0.02848298,  0.02070179],\n",
              "        [-0.01970861, -0.0147154 ,  0.01231819, ...,  0.03036093,\n",
              "         -0.00209909, -0.00944313],\n",
              "        ...,\n",
              "        [ 0.0669847 ,  0.02351181,  0.02041902, ...,  0.00886501,\n",
              "          0.08635366,  0.00595836],\n",
              "        [ 0.01936122,  0.00552446,  0.01234669, ..., -0.00623332,\n",
              "         -0.05116348,  0.05634361],\n",
              "        [ 0.00530333, -0.03424679, -0.03369923, ..., -0.01344391,\n",
              "         -0.00051053, -0.00491391]]),\n",
              " array([240.83364785, 229.76001971, 240.87553006, 242.85647259,\n",
              "        243.71812188, 226.23758728, 253.75036774, 232.27915867,\n",
              "        240.37369797, 242.5454353 , 234.87123906, 242.73885799,\n",
              "        240.05196358, 225.23258537, 231.97861248, 275.50632002,\n",
              "        254.2120771 , 212.69817596, 231.11341292, 236.77024946,\n",
              "        228.47970302, 230.40315553, 231.74205474, 254.8239788 ,\n",
              "        224.56642138, 234.21414835, 259.03543844, 248.98626574,\n",
              "        233.18715364, 231.6601448 , 243.61363103, 253.9502196 ,\n",
              "        228.08073723, 221.24050377, 241.56182679, 231.05514351,\n",
              "        267.10533444, 220.69405764, 227.8257992 , 243.35739934,\n",
              "        238.96548227, 235.3965642 , 229.9447724 , 225.01550116,\n",
              "        219.60480167, 231.08577722, 227.69776227, 234.55806564,\n",
              "        235.68571583, 228.1743324 , 233.66972649, 233.97962559,\n",
              "        226.95997038, 231.6562122 , 218.50176948, 241.84863017,\n",
              "        236.58829981, 221.84472563, 217.12011699, 229.16723514,\n",
              "        230.29621763, 239.55344886, 222.40827815, 226.01377282,\n",
              "        224.39224011, 243.20172874, 236.02642258, 215.73870891,\n",
              "        229.02894954, 230.09730371, 223.85847091, 241.44160571,\n",
              "        234.5103247 , 235.98605013, 250.7305782 , 237.3167211 ,\n",
              "        232.86188793, 226.00986491, 218.7354191 , 226.22068221,\n",
              "        234.8843782 , 224.19749282, 247.87107485, 247.84542924,\n",
              "        217.85522508, 257.41556932, 240.67481158, 230.95500342,\n",
              "        223.64725789, 217.53572217, 228.93768461, 236.47935654,\n",
              "        235.55624208, 243.90314106, 237.61925378, 210.08376054,\n",
              "        230.55756207, 227.72070235, 242.44923701, 251.01333596,\n",
              "        242.01820225, 230.7095738 , 234.1807956 , 235.73222151,\n",
              "        237.95123881, 247.85808929, 231.16596696, 232.9556273 ,\n",
              "        241.59069539, 236.01728588, 232.95598536, 234.91137526,\n",
              "        264.76524709, 234.54269645, 237.46212633, 218.36955789,\n",
              "        216.24342362, 235.5609474 , 235.0600914 , 247.81787233,\n",
              "        269.92733734, 237.05865557, 231.09825835, 220.78492224,\n",
              "        238.45408975, 216.75324496, 227.71782315, 236.68968369,\n",
              "        227.29391973, 260.95813342, 232.55280198, 233.42123668,\n",
              "        240.79043065, 224.55441921, 225.71926643, 242.24598649,\n",
              "        237.03782194, 240.98748596, 228.5905104 , 259.07983207,\n",
              "        225.52739886, 273.22946847, 226.94563577, 234.15842024,\n",
              "        231.89452518, 232.43921009, 242.25801146, 221.66182926,\n",
              "        217.10052282, 222.12646309, 228.17517431, 229.42203093,\n",
              "        222.69402578, 217.81659759, 231.21420254, 226.96570106,\n",
              "        226.57197183, 232.52627751, 228.6354442 , 233.11371806,\n",
              "        222.72495683, 229.81491887, 217.71679377, 231.04371368,\n",
              "        232.15195439, 230.2085812 , 239.06122157, 249.63039563,\n",
              "        249.68809864, 217.48835241, 229.30140511, 243.96743211,\n",
              "        242.90879333, 231.77681905, 244.82472654, 250.31681225,\n",
              "        234.65371076, 221.06705685, 255.06322389, 250.12981905,\n",
              "        228.74396301, 226.43144152, 237.74027567, 232.49050088,\n",
              "        229.36557797, 258.86177014, 247.84163053, 236.01733356,\n",
              "        226.68327292, 229.85251687, 232.55141115, 235.81321515,\n",
              "        221.71664228, 223.9174318 , 240.15511772, 224.33394258,\n",
              "        227.26050182, 235.97339582, 218.77105614, 217.28978941,\n",
              "        252.8618787 , 222.70840651, 229.43810783, 231.71057072,\n",
              "        218.47088541, 232.82006716, 226.01641809, 249.36377642,\n",
              "        234.1740966 , 266.48566583, 259.47573037, 235.41549927,\n",
              "        230.64215034, 242.51848231, 222.59811922, 244.16772085,\n",
              "        211.18632352, 236.04964356, 221.84809526, 236.87305284,\n",
              "        234.42105611, 223.51371087, 236.504565  , 239.58388424,\n",
              "        228.69171708, 249.22975317, 229.28477796, 239.21930203,\n",
              "        236.38690617, 235.95245669, 247.60304606, 247.36214423,\n",
              "        228.61667625, 227.5631196 , 241.29113757, 238.12252481,\n",
              "        215.55972559, 256.51569465, 219.408103  , 267.39129012,\n",
              "        225.86924797, 232.77724279, 248.7107436 , 246.14296421,\n",
              "        232.71265823, 257.98941487, 230.33577065, 220.563187  ,\n",
              "        258.83797592, 279.76576217, 224.36498851, 237.5968932 ,\n",
              "        234.50028073, 240.88701687, 239.16122087, 240.27815118,\n",
              "        224.27025789, 232.01662482, 251.67510127, 243.95519223,\n",
              "        229.2998655 , 228.08955688, 246.89187199, 230.41479242,\n",
              "        230.58130759, 227.70467523, 224.61589972, 242.72795964,\n",
              "        242.58950607, 220.79317398, 217.47412552, 237.31711932,\n",
              "        222.2464999 , 229.41697569, 240.39955226, 244.0294017 ,\n",
              "        232.6423097 , 246.09407286, 233.79109998, 250.10525791,\n",
              "        239.0511278 , 229.90663458, 237.02342705, 235.68809454,\n",
              "        232.48534337, 259.90345265, 221.45574888, 236.31637686,\n",
              "        246.83542567, 223.63235704, 233.86543893, 227.00045786,\n",
              "        223.94509802, 239.30784846, 246.3859587 , 270.63435169,\n",
              "        220.9989043 , 236.1376453 , 250.93786356, 237.4704487 ]),\n",
              " 300,\n",
              " array([145.00623003,  57.43359416,  50.97987786,  48.6784094 ,\n",
              "         43.33003588,  42.95532034,  39.9254805 ,  38.98284924,\n",
              "         38.19783803,  37.30443544,  35.95694864,  35.54922324,\n",
              "         32.36740646,  32.11216602,  30.82750236,  30.39594522,\n",
              "         30.31648104,  29.6422282 ,  29.40255726,  28.73132609,\n",
              "         28.21816979,  28.1168177 ,  27.74012082,  27.20037144,\n",
              "         26.96656322,  26.48320325,  25.9654578 ,  25.76540855,\n",
              "         25.60973376,  25.47456799,  25.21941865,  25.17642507,\n",
              "         24.69967035,  24.38673397,  24.32885746,  24.15961013,\n",
              "         24.05763613,  23.96790902,  23.82474284,  23.63054977,\n",
              "         23.44610231,  23.26009645,  22.97604405,  22.87024256,\n",
              "         22.75913199,  22.68303473,  22.58081189,  22.39942992,\n",
              "         22.29393563,  22.26367415,  22.13185656,  22.02597848,\n",
              "         21.96631866,  21.81310626,  21.77384524,  21.66606331,\n",
              "         21.45748234,  21.36249626,  21.31775545,  21.29901827,\n",
              "         21.22812585,  21.11317938,  21.00322578,  20.9222263 ,\n",
              "         20.82571488,  20.80059777,  20.65834852,  20.63763019,\n",
              "         20.55360915,  20.52040149,  20.48955979,  20.38545698,\n",
              "         20.25727609,  20.20683186,  20.11874865,  20.07293223,\n",
              "         19.98834435,  19.91136529,  19.90043469,  19.82738698,\n",
              "         19.74549778,  19.72423801,  19.68436668,  19.62445278,\n",
              "         19.58568905,  19.49964024,  19.47839844,  19.36968857,\n",
              "         19.34936619,  19.2996654 ,  19.26963233,  19.24637687,\n",
              "         19.18309662,  19.12930689,  19.0771075 ,  19.01070355,\n",
              "         18.95984786,  18.92360244,  18.86059434,  18.82192615,\n",
              "         18.76905906,  18.70854838,  18.69279315,  18.64735448,\n",
              "         18.64574607,  18.55115777,  18.50772276,  18.46601574,\n",
              "         18.42256134,  18.38086947,  18.36719155,  18.29714237,\n",
              "         18.27696169,  18.20140216,  18.1486472 ,  18.11739163,\n",
              "         18.09663153,  18.08413603,  18.01451865,  17.95825309,\n",
              "         17.91009099,  17.9076499 ,  17.86593397,  17.84394373,\n",
              "         17.77689613,  17.74331713,  17.73089906,  17.67778984,\n",
              "         17.67496052,  17.61987288,  17.57018535,  17.52916434,\n",
              "         17.51584786,  17.46162517,  17.42936243,  17.40147687,\n",
              "         17.34263596,  17.31701785,  17.28482342,  17.25201194,\n",
              "         17.21790244,  17.13631084,  17.10561789,  17.07785884,\n",
              "         17.06028428,  17.03141494,  17.01583777,  16.95431399,\n",
              "         16.910958  ,  16.90479035,  16.85259241,  16.83805734,\n",
              "         16.79346762,  16.73922936,  16.69007581,  16.68075269,\n",
              "         16.6656089 ,  16.56866003,  16.5398826 ,  16.52373447,\n",
              "         16.49627018,  16.48109281,  16.44579357,  16.4212876 ,\n",
              "         16.37830836,  16.33835685,  16.32890166,  16.2437947 ,\n",
              "         16.23029273,  16.20787058,  16.16695576,  16.13971691,\n",
              "         16.11986795,  16.10176541,  16.0476936 ,  16.03095388,\n",
              "         15.9926803 ,  15.94577648,  15.9398671 ,  15.86299546,\n",
              "         15.82886108,  15.76143763,  15.75604867,  15.71670329,\n",
              "         15.70233412,  15.67715503,  15.64475617,  15.59930805,\n",
              "         15.58346679,  15.56048049,  15.54279021,  15.51409277,\n",
              "         15.46970384,  15.42731236,  15.40229407,  15.32365611,\n",
              "         15.29848732,  15.27995419,  15.25616907,  15.18178607,\n",
              "         15.13384594,  15.12144108,  15.10935483,  15.08341917,\n",
              "         15.009505  ,  14.9706836 ,  14.94538144,  14.88499839,\n",
              "         14.87722151,  14.86773832,  14.79695762,  14.74317385,\n",
              "         14.69622718,  14.68464361,  14.65668331,  14.61902808,\n",
              "         14.59241272,  14.55825104,  14.52306982,  14.49116638,\n",
              "         14.43364527,  14.38787112,  14.36788527,  14.35151823,\n",
              "         14.32466535,  14.31458067,  14.2756024 ,  14.24586828,\n",
              "         14.2273251 ,  14.20361359,  14.14895439,  14.10806005,\n",
              "         14.0796826 ,  14.06072459,  13.97860597,  13.96960136,\n",
              "         13.88665971,  13.86414583,  13.83160721,  13.78207295,\n",
              "         13.75416555,  13.7262048 ,  13.704273  ,  13.68751868,\n",
              "         13.68073869,  13.60159129,  13.5907536 ,  13.48816945,\n",
              "         13.46289577,  13.43155391,  13.39368333,  13.36113968,\n",
              "         13.31629763,  13.27472001,  13.24228585,  13.22294127,\n",
              "         13.1866768 ,  13.11902942,  13.07667123,  13.03845454,\n",
              "         13.00022117,  12.90723874,  12.89141611,  12.83357002,\n",
              "         12.81096962,  12.75815473,  12.67883121,  12.59179333,\n",
              "         12.55439623,  12.48236615,  12.45320071,  12.41525755,\n",
              "         12.36415278,  12.3064336 ,  12.23977636,  12.18270325,\n",
              "         12.08769872,  11.9904751 ,  11.93129011,  11.88685926,\n",
              "         11.81805957,  11.75574736,  11.73222088,  11.64939192,\n",
              "         11.54675522,  11.5196733 ,  11.41488105,  11.26028974,\n",
              "         11.10960482,  11.05533261,  11.02716421,  10.94074448,\n",
              "         10.67474507,  10.36817753,  10.30155477,  10.21355049,\n",
              "          9.97991577,   9.67625815,   9.22592105,   8.96894196]))"
            ]
          },
          "metadata": {},
          "execution_count": 94
        }
      ],
      "source": [
        "mapping = align(word_vectors_en, word_vectors_fr, lexicon)\n",
        "mapping"
      ]
    },
    {
      "cell_type": "markdown",
      "metadata": {
        "id": "YnHaso-EqlrM"
      },
      "source": [
        "Given a mapping, a set of word English word vector and French word vectors, the next function will translate the English word to French. To do so, we apply the mapping on the English word, and retrieve the nearest neighbor of the obtained vector in the set of French word vectors. The translation is then the corresponding French word."
      ]
    },
    {
      "cell_type": "code",
      "execution_count": 97,
      "metadata": {
        "id": "muQ3jbSuqlrM"
      },
      "outputs": [],
      "source": [
        "def translate(word, word_vectors_en, word_vectors_fr, mapping):\n",
        "    '''\n",
        "    Parameters:\n",
        "    word(string): an English word\n",
        "    word_vectors_en(dict: string -> np.array): English word vectors\n",
        "    word_vectors_en(dict: string -> np.array): French word vectors\n",
        "    mapping(np.array): the mapping from English to French vectors\n",
        "    \n",
        "    Returns\n",
        "    A string containing the translation of the English word\n",
        "    '''\n",
        "    \n",
        "    ## FILL CODE\n",
        "    fr_word_vec = word_vectors_en[word]@mapping[0] #+ word_vectors_en[word]@mapping[1]\n",
        "    fr_word = nearest_neighbor(fr_word_vec, word_vectors_fr) \n",
        "    return fr_word"
      ]
    },
    {
      "cell_type": "code",
      "execution_count": 106,
      "metadata": {
        "id": "RfHbsKtUqlrM",
        "colab": {
          "base_uri": "https://localhost:8080/"
        },
        "outputId": "2a1d9bc4-eecc-48c1-f7a8-c682123b084f"
      },
      "outputs": [
        {
          "output_type": "stream",
          "name": "stdout",
          "text": [
            "homme\n",
            "machine\n",
            "apprentissage\n"
          ]
        }
      ],
      "source": [
        "print(translate(\"man\", word_vectors_en, word_vectors_fr, mapping))\n",
        "print(translate(\"machine\", word_vectors_en, word_vectors_fr, mapping))\n",
        "print(translate(\"learning\", word_vectors_en, word_vectors_fr, mapping))"
      ]
    },
    {
      "cell_type": "markdown",
      "metadata": {
        "id": "oVz2ZMYrqlrM"
      },
      "source": [
        "Finally, let's implement a function to evaluate this method on the validation lexicon:"
      ]
    },
    {
      "cell_type": "code",
      "execution_count": 100,
      "metadata": {
        "id": "H2ZOJKEfqlrM"
      },
      "outputs": [],
      "source": [
        "def evaluate(valid, word_vectors_en, word_vectors_fr, mapping):\n",
        "    '''\n",
        "    Parameters:\n",
        "    valid(a list of pairs of string): the validation lexicon\n",
        "    word_vectors_en(dict: string -> np.array): English word vectors\n",
        "    word_vectors_en(dict: string -> np.array): French word vectors\n",
        "    mapping(np.array): the mapping from English to French vectors\n",
        "    \n",
        "    Returns\n",
        "    Accuracy(float): the accuracy on the validation lexicon\n",
        "    '''\n",
        "    acc, n = 0.0, 0\n",
        "    \n",
        "    ## FILL CODE\n",
        "    for word_en, word_fr in valid:\n",
        "      if word_fr == translate(word_en, word_vectors_en,word_vectors_fr, mapping):\n",
        "        acc+=1\n",
        "    acc/=len(valid)    \n",
        "    return acc"
      ]
    },
    {
      "cell_type": "code",
      "execution_count": 101,
      "metadata": {
        "id": "Q1tkJZYaqlrM",
        "colab": {
          "base_uri": "https://localhost:8080/"
        },
        "outputId": "f196453b-e835-41b3-a649-bf7385035d81"
      },
      "outputs": [
        {
          "output_type": "execute_result",
          "data": {
            "text/plain": [
              "0.64"
            ]
          },
          "metadata": {},
          "execution_count": 101
        }
      ],
      "source": [
        "evaluate(valid, word_vectors_en, word_vectors_fr, mapping)"
      ]
    },
    {
      "cell_type": "code",
      "execution_count": null,
      "metadata": {
        "id": "Rf4O3HEMqlrM"
      },
      "outputs": [],
      "source": [
        ""
      ]
    }
  ],
  "metadata": {
    "kernelspec": {
      "display_name": "Python 3",
      "language": "python",
      "name": "python3"
    },
    "language_info": {
      "codemirror_mode": {
        "name": "ipython",
        "version": 3
      },
      "file_extension": ".py",
      "mimetype": "text/x-python",
      "name": "python",
      "nbconvert_exporter": "python",
      "pygments_lexer": "ipython3",
      "version": "3.6.2+"
    },
    "colab": {
      "name": "NLP_Week 1_Lab2_intro_to_wordvectors.ipynb",
      "provenance": []
    }
  },
  "nbformat": 4,
  "nbformat_minor": 0
}